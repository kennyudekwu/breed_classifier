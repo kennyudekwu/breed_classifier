{
  "nbformat": 4,
  "nbformat_minor": 0,
  "metadata": {
    "colab": {
      "name": "Scrape Breed Images.ipynb",
      "provenance": [],
      "include_colab_link": true
    },
    "kernelspec": {
      "name": "python3",
      "display_name": "Python 3"
    },
    "language_info": {
      "name": "python"
    },
    "accelerator": "GPU"
  },
  "cells": [
    {
      "cell_type": "markdown",
      "metadata": {
        "id": "view-in-github",
        "colab_type": "text"
      },
      "source": [
        "<a href=\"https://colab.research.google.com/github/damilare-akin/dog-breed-classification/blob/main/Scrape_Breed_Images.ipynb\" target=\"_parent\"><img src=\"https://colab.research.google.com/assets/colab-badge.svg\" alt=\"Open In Colab\"/></a>"
      ]
    },
    {
      "cell_type": "markdown",
      "metadata": {
        "id": "UIBPgudZcvC-"
      },
      "source": [
        "## Import Libraries"
      ]
    },
    {
      "cell_type": "code",
      "metadata": {
        "id": "mc_1gkbPcn8f",
        "colab": {
          "base_uri": "https://localhost:8080/"
        },
        "outputId": "7809dd5f-0318-47c5-c608-7904187e3480"
      },
      "source": [
        "!pip install -Uqq fastbook # Install the fastai library and dependencies\n",
        "import fastbook \n",
        "fastbook.setup_book()"
      ],
      "execution_count": null,
      "outputs": [
        {
          "output_type": "stream",
          "text": [
            "\u001b[K     |████████████████████████████████| 727kB 7.4MB/s \n",
            "\u001b[K     |████████████████████████████████| 194kB 15.5MB/s \n",
            "\u001b[K     |████████████████████████████████| 51kB 7.9MB/s \n",
            "\u001b[K     |████████████████████████████████| 1.2MB 22.9MB/s \n",
            "\u001b[K     |████████████████████████████████| 61kB 10.6MB/s \n",
            "\u001b[K     |████████████████████████████████| 61kB 9.1MB/s \n",
            "\u001b[?25hMounted at /content/gdrive\n"
          ],
          "name": "stdout"
        }
      ]
    },
    {
      "cell_type": "code",
      "metadata": {
        "id": "lVrGEgpwddo4"
      },
      "source": [
        "#hide\n",
        "from fastbook import *\n",
        "from fastai.vision.widgets import *"
      ],
      "execution_count": null,
      "outputs": []
    },
    {
      "cell_type": "markdown",
      "metadata": {
        "id": "jY6tX0zEcyhB"
      },
      "source": [
        "## Downloading Images\n",
        "First I have to rewrite the `search_images_ddg` function to change the line that runs the `.decode()` method on a string, since it just turns up errors."
      ]
    },
    {
      "cell_type": "code",
      "metadata": {
        "id": "dpTB1JxNep3-"
      },
      "source": [
        "def search_images_ddg_new(term, max_images=200):\n",
        "    \"Search for `term` with DuckDuckGo and return a unique urls of about `max_images` images\"\n",
        "    url = 'https://duckduckgo.com/'\n",
        "    res = urlread(url,data={'q':term})\n",
        "    searchObj = re.search(r'vqd=([\\d-]+)\\&', res)\n",
        "    requestUrl = url + 'i.js'\n",
        "    params = dict(l='us-en', o='json', q=term, vqd=searchObj.group(1), f=',,,', p='1', v7exp='a')\n",
        "    urls,data = set(),{'next':1}\n",
        "    while len(urls)<max_images and 'next' in data:\n",
        "        try:\n",
        "            data = urljson(requestUrl,data=params)\n",
        "            urls.update(L(data['results']).itemgot('image'))\n",
        "            requestUrl = url + data['next']\n",
        "        except (URLError,HTTPError): pass\n",
        "        time.sleep(0.2)\n",
        "    return L(urls)"
      ],
      "execution_count": null,
      "outputs": []
    },
    {
      "cell_type": "code",
      "metadata": {
        "id": "ATn2Pmhri6oI"
      },
      "source": [
        "# breeds of dogs\n",
        "breeds = ['Alsatian', 'Dalmatian', 'Boerboel', 'Siberian Husky']\n",
        "\n",
        "# Create path to 'dogs' folder\n",
        "data_path = Path('/content/gdrive/MyDrive/datasets')\n",
        "dog_path = Path('/content/gdrive/MyDrive/datasets/dogs')\n",
        "\n",
        "# Create folder\n",
        "if not data_path.exists():\n",
        "    data_path.mkdir()\n",
        "if not dog_path.exists():\n",
        "    dog_path.mkdir()"
      ],
      "execution_count": null,
      "outputs": []
    },
    {
      "cell_type": "code",
      "metadata": {
        "id": "BsfpfxtHyC66",
        "colab": {
          "base_uri": "https://localhost:8080/"
        },
        "outputId": "b48d436c-d808-460c-f532-94799c024c9e"
      },
      "source": [
        "urls = search_images_ddg_new('alsatian', max_images=3)\n",
        "len(urls)"
      ],
      "execution_count": null,
      "outputs": [
        {
          "output_type": "execute_result",
          "data": {
            "text/plain": [
              "100"
            ]
          },
          "metadata": {
            "tags": []
          },
          "execution_count": 6
        }
      ]
    },
    {
      "cell_type": "code",
      "metadata": {
        "colab": {
          "base_uri": "https://localhost:8080/"
        },
        "id": "mF0VblKJyMRm",
        "outputId": "b4da8859-1461-454e-e9d8-89fcae382792"
      },
      "source": [
        "urls"
      ],
      "execution_count": null,
      "outputs": [
        {
          "output_type": "execute_result",
          "data": {
            "text/plain": [
              "(#100) ['http://photos.demandstudios.com/getty/article/106/11/511060988_XS.jpg','https://www.dogbreedinfo.com/images29/AmericanAlsatianPurebredDogShepherdHector1YearOld5.jpg','http://3.bp.blogspot.com/-h9F2CjJcBT4/TWxxwv2qBOI/AAAAAAAADhk/E2xRoDA52q0/s1600/1.jpg','https://nationalpurebreddogday.com/wp-content/uploads/2018/09/reconstructed-dire-wolf-364x400.jpeg','https://www.mediastorehouse.com/p/172/animals/pets-dogs-pastoral-german-shepherd-dog/dog-german-shepherd-alsatian-646166_6947.jpg','http://www.dogartists.co.uk/wp-content/uploads/2012/01/alsatian-portrait.jpg','https://dogsaremyuniverse.com/wp-content/uploads/2017/03/Alsatian-Dog.jpg','https://animalcorner.org/wp-content/uploads/2020/04/American-Alsatian-Dog.jpg','http://www.dogartists.co.uk/wp-content/uploads/2011/12/Sina1-dog.jpg','https://c8.alamy.com/comp/CR3104/german-shepherd-dog-alsatian-showing-its-teeth-CR3104.jpg'...]"
            ]
          },
          "metadata": {
            "tags": []
          },
          "execution_count": 7
        }
      ]
    },
    {
      "cell_type": "code",
      "metadata": {
        "colab": {
          "base_uri": "https://localhost:8080/"
        },
        "id": "pxlhLoDqjxE-",
        "outputId": "c8ee7b9f-f211-4b06-e81e-40b60678a048"
      },
      "source": [
        "for i in breeds:\n",
        "    dest = (dog_path/i) # create a path object\n",
        "    print(dest)\n",
        "    dest.mkdir(exist_ok=True) # create a directory for the breeds\n",
        "\n",
        "    # run the search function for each breed to get the URLs\n",
        "    results = search_images_ddg_new(i)\n",
        "    \n",
        "\n",
        "    # Download the images using their URLs\n",
        "    download_images(dest, urls=results)"
      ],
      "execution_count": null,
      "outputs": [
        {
          "output_type": "stream",
          "text": [
            "/content/gdrive/MyDrive/datasets/dogs/Alsatian\n",
            "/content/gdrive/MyDrive/datasets/dogs/Dalmatian\n",
            "/content/gdrive/MyDrive/datasets/dogs/Boerboel\n",
            "/content/gdrive/MyDrive/datasets/dogs/Siberian Husky\n"
          ],
          "name": "stdout"
        }
      ]
    },
    {
      "cell_type": "markdown",
      "metadata": {
        "id": "FVj-ACvmy41m"
      },
      "source": [
        "Great, the images are downloaded!"
      ]
    },
    {
      "cell_type": "code",
      "metadata": {
        "id": "i6NqmET-zAfK",
        "colab": {
          "base_uri": "https://localhost:8080/",
          "height": 145
        },
        "outputId": "101df19b-3df2-4bd8-f20c-19906e257086"
      },
      "source": [
        "img = Image.open('/content/gdrive/MyDrive/datasets/dogs/Boerboel/00000000.jpg')\n",
        "img.to_thumb(128,128)"
      ],
      "execution_count": null,
      "outputs": [
        {
          "output_type": "execute_result",
          "data": {
            "image/png": "[encoded data removed]",
            "text/plain": [
              "<PIL.Image.Image image mode=RGB size=101x128 at 0x7FC82B494B90>"
            ]
          },
          "metadata": {
            "tags": []
          },
          "execution_count": 9
        }
      ]
    },
    {
      "cell_type": "markdown",
      "metadata": {
        "id": "Z9nA4Iym4jNF"
      },
      "source": [
        "Let's verify the images"
      ]
    },
    {
      "cell_type": "code",
      "metadata": {
        "colab": {
          "base_uri": "https://localhost:8080/"
        },
        "id": "QpEp6kkJzfOB",
        "outputId": "06e5d9ad-055b-4174-a903-fa90fabede64"
      },
      "source": [
        "all_images = get_image_files(dog_path)\n",
        "failed_images = verify_images(all_images)\n",
        "failed_images"
      ],
      "execution_count": null,
      "outputs": [
        {
          "output_type": "execute_result",
          "data": {
            "text/plain": [
              "(#8) [Path('/content/gdrive/MyDrive/datasets/dogs/Alsatian/00000068.jpg'),Path('/content/gdrive/MyDrive/datasets/dogs/Alsatian/00000127.jpg'),Path('/content/gdrive/MyDrive/datasets/dogs/Alsatian/00000230.jpg'),Path('/content/gdrive/MyDrive/datasets/dogs/Dalmatian/00000282.png'),Path('/content/gdrive/MyDrive/datasets/dogs/Boerboel/00000016.jpg'),Path('/content/gdrive/MyDrive/datasets/dogs/Boerboel/00000084.jpg'),Path('/content/gdrive/MyDrive/datasets/dogs/Siberian Husky/00000003.jpg'),Path('/content/gdrive/MyDrive/datasets/dogs/Siberian Husky/00000191.jpg')]"
            ]
          },
          "metadata": {
            "tags": []
          },
          "execution_count": 10
        }
      ]
    },
    {
      "cell_type": "code",
      "metadata": {
        "colab": {
          "base_uri": "https://localhost:8080/"
        },
        "id": "ygj_Rp9a4NWp",
        "outputId": "fe553685-16f2-4659-d4d0-9dad4f3a9242"
      },
      "source": [
        "failed_images.map(Path.unlink)"
      ],
      "execution_count": null,
      "outputs": [
        {
          "output_type": "execute_result",
          "data": {
            "text/plain": [
              "(#8) [None,None,None,None,None,None,None,None]"
            ]
          },
          "metadata": {
            "tags": []
          },
          "execution_count": 11
        }
      ]
    },
    {
      "cell_type": "code",
      "metadata": {
        "colab": {
          "base_uri": "https://localhost:8080/"
        },
        "id": "5k-yIqNX4W7c",
        "outputId": "97cbfc7d-23fe-45da-84b2-99fb40a5af3b"
      },
      "source": [
        "failed_images = verify_images(all_images)\n",
        "failed_images"
      ],
      "execution_count": null,
      "outputs": [
        {
          "output_type": "execute_result",
          "data": {
            "text/plain": [
              "(#8) [Path('/content/gdrive/MyDrive/datasets/dogs/Alsatian/00000068.jpg'),Path('/content/gdrive/MyDrive/datasets/dogs/Alsatian/00000127.jpg'),Path('/content/gdrive/MyDrive/datasets/dogs/Alsatian/00000230.jpg'),Path('/content/gdrive/MyDrive/datasets/dogs/Dalmatian/00000282.png'),Path('/content/gdrive/MyDrive/datasets/dogs/Boerboel/00000016.jpg'),Path('/content/gdrive/MyDrive/datasets/dogs/Boerboel/00000084.jpg'),Path('/content/gdrive/MyDrive/datasets/dogs/Siberian Husky/00000003.jpg'),Path('/content/gdrive/MyDrive/datasets/dogs/Siberian Husky/00000191.jpg')]"
            ]
          },
          "metadata": {
            "tags": []
          },
          "execution_count": 12
        }
      ]
    }
  ]
}